{
 "cells": [
  {
   "cell_type": "markdown",
   "metadata": {},
   "source": [
    "#### Simple Gen AI APP Using Langchain"
   ]
  },
  {
   "cell_type": "code",
   "execution_count": null,
   "metadata": {},
   "outputs": [],
   "source": [
    "import os\n",
    "%pip install python-dotenv\n",
    "from dotenv import load_dotenv\n",
    "load_dotenv()\n",
    "\n",
    "os.environ['OPENAI_API_KEY']=os.getenv(\"OPENAI_API_KEY\")\n",
    "## Langsmith Tracking\n",
    "os.environ[\"LANGCHAIN_API_KEY\"]=os.getenv(\"LANGCHAIN_API_KEY\")\n",
    "os.environ[\"LANGCHAIN_TRACING_V2\"]=\"true\"\n",
    "os.environ[\"LANGCHAIN_PROJECT\"]=os.getenv(\"LANGCHAIN_PROJECT\")"
   ]
  },
  {
   "cell_type": "code",
   "execution_count": 2,
   "metadata": {},
   "outputs": [
    {
     "name": "stdout",
     "output_type": "stream",
     "text": [
      "Note: you may need to restart the kernel to use updated packages.\n"
     ]
    },
    {
     "name": "stderr",
     "output_type": "stream",
     "text": [
      "USER_AGENT environment variable not set, consider setting it to identify your requests.\n"
     ]
    }
   ],
   "source": [
    "## Data Ingestion--From the website we need to scrape the data\n",
    "%pip install langchain_community\n",
    "from langchain_community.document_loaders import WebBaseLoader"
   ]
  },
  {
   "cell_type": "code",
   "execution_count": 3,
   "metadata": {},
   "outputs": [
    {
     "data": {
      "text/plain": [
       "<langchain_community.document_loaders.web_base.WebBaseLoader at 0x7fec460a81c0>"
      ]
     },
     "execution_count": 3,
     "metadata": {},
     "output_type": "execute_result"
    }
   ],
   "source": [
    "loader=WebBaseLoader(\"https://www.nhl.com/\")\n",
    "loader"
   ]
  },
  {
   "cell_type": "code",
   "execution_count": 4,
   "metadata": {},
   "outputs": [
    {
     "data": {
      "text/plain": [
       "[Document(metadata={'source': 'https://www.nhl.com/', 'title': 'Official Site of the National Hockey League | NHL.com', 'description': 'The official National Hockey League website including news, rosters, stats, schedules, teams, and video.', 'language': 'en'}, page_content=\"\\n\\n\\n\\n\\n\\nOfficial Site of the National Hockey League | NHL.com\\n\\n\\n\\n\\n\\n\\n\\n\\n\\n\\n\\n\\n\\n\\n\\n\\n\\n\\n\\n\\n\\n\\n\\n\\n \\n\\n\\n\\n\\n\\n\\n\\n\\n\\n\\n\\n\\n\\n\\n\\n\\n\\n\\n\\n\\n\\n\\n\\n\\n\\n\\n\\n\\n\\n\\n        Skip to Main Content\\n    \\n\\n\\n\\n\\n\\n\\n\\n\\n\\n\\n\\n\\n\\n\\n\\nNews\\n\\n\\n\\n\\nVideo\\n\\n\\n\\n\\nScores\\n\\n\\n\\n\\n\\n\\n\\nNavigation Menu\\n\\n\\n\\n\\n\\nSchedule\\n\\n\\n\\n\\nStats\\n\\n\\n\\n\\nStandings\\n\\n\\n\\n\\nPlayers\\n\\n\\n\\n\\nFantasy\\n\\n\\n\\n\\nNHL Unites\\n\\n\\n\\n\\nTeams\\n\\n\\n\\n\\nShop\\n\\n\\n\\n\\n\\n          Shop\\n        \\n\\n\\n\\nNHL Shop\\n\\n\\n\\n\\nAuctions\\n\\n\\n\\n\\nJerseys\\n\\n\\n\\n\\nMen\\n\\n\\n\\n\\nWomen\\n\\n\\n\\n\\nKids\\n\\n\\n\\n\\nPhotos.com\\n\\n\\n\\n\\nNHL Shop - NYC\\n\\n\\n\\n\\n\\n\\n\\nTickets\\n\\n\\n\\n\\n\\n\\n\\nEN\\n\\n\\n\\n\\n\\n\\n\\nEnglish\\n\\n\\nFrançais\\n\\n\\nDeutsch\\n\\n\\nSuomi\\n\\n\\nSvenska\\n\\n\\nČeština\\n\\n\\nSlovenčina\\n\\n\\nEspañol\\n\\n\\n\\n\\n\\n\\n\\n\\n\\n\\n\\n\\n\\n\\n\\n\\n\\n\\n\\n\\n\\n\\n\\n\\n\\n\\n\\n\\n\\n\\n\\n\\n\\n\\n\\n\\n\\n\\n\\n\\n\\n\\n\\nSATURDAY NIGHT DRIVE        \\n\\n\\n                U.S. turns focus to showdown with Canada after win against Finland at 4 Nations\\n              \\n\\n\\n\\n\\n\\n\\n\\n\\n\\n\\n\\nTkachuks deliver dream performance for U.S. in win\\n\\n\\n\\n\\n\\n\\n\\n\\n\\n\\n\\nU.S. honors Gaudreau legacy in ‘great way’ after win\\n\\n\\n\\n\\n\\n\\n\\n\\n\\n\\n\\nCrosby, MacKinnon leading by example for Canada\\n\\n\\n\\n\\n\\n\\n\\n\\n\\n\\n\\nTop Stories\\n\\nFinland mulling changes after loss in 4 Nations opener\\nTheodore to miss rest of 4 Nations for Canada\\nSweden Quarter-Century Teams selected by NHL.com\\nSweden seeks bounce back against rival Finland\\n2025 NHL Draft Diary: James Hagens\\n4 Nations Face-Off blog: Jake Guentzel\\nPakarinen knows both sides of Finland, Sweden rivalry\\nCrosby provides memorable day for Make-A-Wish teen\\nComplete coverage of 4 Nations Face-Off\\n\\n\\n\\n\\n\\n\\n\\n\\n\\n\\n\\n\\n\\n\\nMust Watch\\n\\n\\n\\n\\n\\n\\n\\n\\n3:14\\n\\n\\nTkachuk brothers have big night\\n\\nFeb 14, 2025\\n\\n\\n\\n\\n\\n\\n\\n\\n\\n2:11\\n\\n\\nUSA opens the 3rd with back-to-back goals\\n\\nFeb 14, 2025\\n\\n\\n\\n\\n\\n\\n\\n\\n\\n5:06\\n\\n\\nUSA at FIN | Recap | 4 Nations Face-Off\\n\\nFeb 14, 2025\\n\\n\\n\\n\\n\\n\\n\\n\\n\\n19:34\\n\\n\\nHear from USA players and coach after win\\n\\nFeb 14, 2025\\n\\n\\n\\n\\n\\n\\n\\n\\n\\n0:44\\n\\n\\nSweden, Finland kick off Saturday's 4 Nations slate\\n\\nFeb 14, 2025\\n\\n\\n\\n\\n\\n\\n\\n\\n\\n0:22\\n\\n\\nSaros shuts down breakaway\\n\\nFeb 14, 2025\\n\\n\\n\\n\\n\\n\\n\\n\\n\\n0:48\\n\\n\\nTkachuk's second goal\\n\\nFeb 14, 2025\\n\\n\\n\\n\\n\\n\\n\\n\\n\\n0:55\\n\\n\\nBoldy's tip-in goal\\n\\nFeb 14, 2025\\n\\n\\n\\n\\n\\n\\n\\n\\n\\n0:42\\n\\n\\nTkachuk puts USA on the board\\n\\nFeb 14, 2025\\n\\n\\n\\n\\n\\n\\n\\n\\n\\n0:45\\n\\n\\nJokiharju opens scoring\\n\\nFeb 14, 2025\\n\\n\\n\\n\\n\\n\\n\\n\\n\\n1:30\\n\\n\\n4 Nations Face-Off Mic Drop: Canada vs. Sweden\\n\\nFeb 13, 2025\\n\\n\\n\\n\\n\\n\\n\\n\\n\\n3:54\\n\\n\\n4 Nations Face-Off preview: USA vs. Finland\\n\\nFeb 13, 2025\\n\\n\\n\\n\\n\\n\\n\\n\\n\\n4:43\\n\\n\\nAll-Star Breaks Volume 4\\n\\nFeb 13, 2025\\n\\n\\n\\n\\n\\n\\n\\n\\n\\n0:15\\n\\n\\nNHL Quarter-Century Team Fan Vote\\n\\nFeb 12, 2025\\n\\n\\n\\n\\n\\n\\n\\n\\n\\n1:05\\n\\n\\nMarner wins it in OT\\n\\nFeb 13, 2025\\n\\n\\n\\n\\n\\n\\n\\n\\n\\n0:38\\n\\n\\nBinnington makes stellar save on Zibanejad\\n\\nFeb 13, 2025\\n\\n\\n\\n\\n\\n\\n\\n\\n\\nPrevious\\n\\n\\n\\n\\nNext\\n\\n\\n\\n\\n\\n\\n\\n\\n\\n\\n\\n\\n\\n\\n\\n\\n\\n\\n\\n\\n\\nSpotlight\\n\\n\\n\\n\\n\\n\\n\\n\\n\\n\\n\\n\\n\\n\\n\\nFinland searching for answers after loss to U.S.\\n\\nFeb 14, 2025\\n\\n\\n\\n\\n\\n\\n\\n\\n\\n\\n\\n\\nCrosby's childhood coach thrilled with Canada win\\n\\nFeb 13, 2025\\n\\n\\n\\n\\n\\n\\n\\n\\n\\n\\n\\n\\n4 Nations Face-Off blog: Mikael Granlund\\n\\nFeb 14, 2025\\n\\n\\n\\n\\n\\n\\n\\n\\n\\n\\n\\n\\nWorld Cup of Hockey to return in February 2028\\n\\nFeb 13, 2025\\n\\n\\n\\n\\n\\n\\n\\n\\n\\n\\n\\n\\nEDGE stats: Karlsson among 4 Nations Face-Off leaders\\n\\nFeb 14, 2025\\n\\n\\n\\n\\n\\n\\n\\n\\n\\n\\n\\n\\nMarner's hero moment comes with an assist from Crosby\\n\\nFeb 13, 2025\\n\\n\\n\\n\\n\\n\\n\\n\\n\\n\\n\\n\\nAlfredsson appreciates 4 Nations role with Sweden\\n\\nFeb 13, 2025\\n\\n\\n\\n\\n\\n\\n\\n\\n\\n\\n\\n\\nCrosby grows legend for Canada in 4 Nations opener\\n\\nFeb 13, 2025\\n\\n\\n\\n\\n\\n\\n\\n\\n\\n\\n\\n\\nLemieux gets Canadian crowd roaring at 4 Nations Face-Off\\n\\nFeb 13, 2025\\n\\n\\n\\n\\n\\n\\n\\n\\n\\n\\n\\n\\nSweden taking positives from loss in 4 Nations opener \\n\\nFeb 13, 2025\\n\\n\\n\\n\\n\\n\\n\\n\\n\\n\\n\\n\\nBinnington comes through for Canada in 4 Nations win\\n\\nFeb 13, 2025\\n\\n\\n\\n\\n\\n\\n\\n\\n\\n\\n\\n\\n\\n4 Nations Face-Off digital program\\n\\n\\nFeb 12, 2025\\n\\n\\n\\n\\n\\n\\n\\n\\n\\n\\n\\n\\nDuclair, NHL unveil synthetic rink in South Florida\\n\\nFeb 12, 2025\\n\\n\\n\\n\\n\\n\\n\\n\\n\\n\\n\\n\\nUS NTDP has 'become like a factory' at 4 Nations\\n\\nFeb 12, 2025\\n\\n\\n\\n\\n\\n\\n\\n\\n\\n\\n\\n\\nGustavsson 'huge' save helps Sweden get to OT\\n\\nFeb 13, 2025\\n\\n\\n\\n\\n\\n\\n\\n\\n\\n\\n\\n\\nNHL Quarter-Century Team Fan Vote underway\\n\\nFeb 12, 2025\\n\\n\\n\\n\\n\\n\\n\\n\\n\\n\\n\\n\\nTop candidates for 2025 Hobey Baker Award\\n\\nFeb 13, 2025\\n\\n\\n\\n\\n\\n\\n\\n\\n\\n\\n\\n\\nRantanen still settling in Carolina amidst 4 Nations\\n\\nFeb 12, 2025\\n\\n\\n\\n\\n\\n\\n\\n\\n\\n\\n\\n\\n4 Nations Face-Off blog: Travis Sanheim\\n\\nFeb 13, 2025\\n\\n\\n\\n\\n\\n\\n\\n\\n\\n\\n\\n\\n4 Nations Face-Off blog: Jonas Brodin\\n\\nFeb 13, 2025\\n\\n\\n\\n\\n\\n\\n\\n\\n\\n\\n\\n\\n4 Nations Face-Off in spotlight on '@TheRink'\\n\\nFeb 12, 2025\\n\\n\\n\\n\\n\\n\\n\\n\\n\\n\\n\\n\\nNHL celebrates dynamic stars in 'Tricky' commercial\\n\\nFeb 12, 2025\\n\\n\\n\\n\\n\\n\\n\\n\\n\\n\\n\\n\\nPWHL notebook: Spooner makes season debut\\n\\nFeb 13, 2025\\n\\n\\n\\n\\n\\n\\n\\n\\n\\n\\n\\n\\nNHL Cultural Celebrations / Community Theme Nights blog\\n\\nJan 29, 2025\\n\\n\\n\\n\\n\\n\\n\\n\\n\\nPrevious\\n\\n\\n\\n\\nNext\\n\\n\\n\\n\\n\\n\\n\\n\\n\\n\\n\\nGot 5 Minutes? Get the Game\\n\\n\\n\\n\\n\\n\\n\\n\\n\\n\\n\\n\\n5:06\\n\\n\\nUSA at FIN | Recap | 4 Nations Face-Off\\n\\nFeb 14, 2025\\n\\n\\n\\n\\n\\n\\n\\n\\n\\n5:06\\n\\n\\nCAN at SWE | Recap | 4 Nations Face-Off\\n\\nFeb 13, 2025\\n\\n\\n\\n\\n\\n\\n\\n\\n\\n5:02\\n\\n\\nTBL at MTL | Recap\\n\\nFeb 09, 2025\\n\\n\\n\\n\\n\\n\\n\\n\\n\\n4:40\\n\\n\\nUTA at WSH | Recap\\n\\nFeb 09, 2025\\n\\n\\n\\n\\n\\n\\n\\n\\n\\n5:06\\n\\n\\nANA at LAK | Recap\\n\\nFeb 09, 2025\\n\\n\\n\\n\\n\\n\\n\\n\\n\\n5:05\\n\\n\\nSEA at CGY | Recap\\n\\nFeb 09, 2025\\n\\n\\n\\n\\n\\n\\n\\n\\n\\n5:03\\n\\n\\nDAL at SJS | Recap\\n\\nFeb 09, 2025\\n\\n\\n\\n\\n\\n\\n\\n\\n\\n4:59\\n\\n\\nBUF at NSH | Recap\\n\\nFeb 09, 2025\\n\\n\\n\\n\\n\\n\\n\\n\\n\\n5:04\\n\\n\\nNYI at MIN | Recap\\n\\nFeb 09, 2025\\n\\n\\n\\n\\n\\n\\n\\n\\n\\n5:00\\n\\n\\nCHI at STL | Recap\\n\\nFeb 09, 2025\\n\\n\\n\\n\\n\\n\\n\\n\\n\\n5:02\\n\\n\\nOTT at FLA | Recap\\n\\nFeb 09, 2025\\n\\n\\n\\n\\n\\n\\n\\n\\n\\n5:01\\n\\n\\nPIT at PHI | Recap\\n\\nFeb 09, 2025\\n\\n\\n\\n\\n\\n\\n\\n\\n\\n5:03\\n\\n\\nTOR at VAN | Recap\\n\\nFeb 09, 2025\\n\\n\\n\\n\\n\\n\\n\\n\\n\\n5:04\\n\\n\\nNYR at CBJ | Recap\\n\\nFeb 09, 2025\\n\\n\\n\\n\\n\\n\\n\\n\\n\\n5:03\\n\\n\\nVGK at BOS | Recap\\n\\nFeb 08, 2025\\n\\n\\n\\n\\n\\n\\n\\n\\n\\n5:02\\n\\n\\nUTA at CAR | Recap\\n\\nFeb 08, 2025\\n\\n\\n\\n\\n\\n\\n\\n\\n\\nPrevious\\n\\n\\n\\n\\nNext\\n\\n\\n\\n\\n\\n\\n\\n\\n\\n\\n\\n\\n\\n\\n\\nVideo Editors' Picks\\n\\n\\n\\n\\n16:33\\n\\n\\nThe Jackie Redmond Show | Ep. 4\\n\\n\\n\\n\\n\\n\\n\\n\\n22:10\\n\\n\\nBlack Girl Hockey Club | Breaking Down Barriers | S2, E7\\n\\n\\n\\n\\n\\n\\n\\n\\n3:05\\n\\n\\nAll-Star Breaks Volume 3\\n\\n\\n\\n\\n\\n\\n\\n\\n\\n\\n\\n\\n\\n\\n\\n\\n\\n\\n\\n\\n\\n\\n\\n\\n\\n\\n\\n\\nFantasy\\n\\n\\n\\n\\n\\n\\n\\n\\n\\n\\n\\nFantasy hockey rankings for 4 Nations Face-Off\\n\\nFeb 14, 2025\\n\\n\\n\\n\\n\\n\\n\\n\\n\\n\\n\\n\\nFantasy picks, props with EDGE stats for today\\n\\nFeb 13, 2025\\n\\n\\n\\n\\n\\n\\n\\n\\n\\n\\n\\n\\nProjected lineups, starting goalies for today\\n\\nFeb 13, 2025\\n\\n\\n\\n\\n\\n\\n\\n\\n\\n\\n\\n\\nFantasy hockey top 200 player rankings\\n\\nFeb 13, 2025\\n\\n\\n\\n\\n\\n\\n\\n\\n\\n\\n\\nPodcasts: Hockey Every Day\\n\\n\\n\\n\\n\\n\\n\\nEnergy Line with Nate and JSB Tune in on Tuesdays to hear Nate Thompson and Julie Stewart-Binks swap stories\\n\\n\\n\\n\\n\\n\\n\\n\\n\\n\\n\\n\\nNever Offside with Julie & Cat Peek inside the lives of NHL wives with Julie Petry & Cat Toffoli every Tuesday\\n\\n\\n\\n\\n\\n\\n\\n\\n\\n\\n\\n\\nNHL Unscripted with Virk and Demers Thursdays are for spirited talk, tackling hockey & beyond (in partnership with iHeart)\\n\\n\\n\\n\\n\\n\\n\\n\\n\\n\\n\\n\\nNHL @TheRink Go deep into news & conversation with hockey insiders, most Wednesdays\\n\\n\\n\\n\\n\\n\\n\\n\\n\\n\\n\\nShort Shifts\\n\\n\\n\\n\\n\\n\\n\\nMake-A-Wish teen reads U.S. starting lineup before 4 Nations Face-Off\\n\\nFeb 14, 2025\\n\\n\\n\\n\\n\\n\\n\\n\\n\\n\\n\\n\\nMarchand calls himself Canada's ‘biggest fan’ in mic’d up moment after OT win\\n\\nFeb 14, 2025\\n\\n\\n\\n\\n\\n\\n\\n\\n\\n\\n\\n\\nFinnish NBA star Markkanen rocks Finland's 4 Nations jersey\\n\\nFeb 14, 2025\\n\\n\\n\\n\\n\\n\\n\\n\\n\\n\\n\\n\\nGustavsson robs Toews with impressive blocker save in 4 Nations opening night\\n\\nFeb 13, 2025\\n\\n\\n\\n\\n\\n\\n\\n\\n\\n\\n\\n\\nLatest from NHL Network\\n\\n\\n\\n\\n1:13\\n\\n\\nShea Theodore injury update\\n\\nFeb 14, 2025\\n\\n\\n\\n\\n\\n\\n\\n\\n\\n3:06\\n\\n\\nNHL Tonight: USA defeats Finland\\n\\nFeb 14, 2025\\n\\n\\n\\n\\n\\n\\n\\n\\n\\n0:36\\n\\n\\nNHL Tonight: Matt Boldy Talks 4 Nations Face-Off\\n\\nFeb 14, 2025\\n\\n\\n\\n\\n\\n\\n\\n\\n\\n2:46\\n\\n\\nNHL Tonight: Canada Wins Opener\\n\\nFeb 14, 2025\\n\\n\\n\\n\\n\\n\\n\\n\\n\\nTop Goals & Saves of the Week\\n\\n\\n\\n\\n6:01\\n\\n\\nTop Saves from Week 18 of the 2024-25 NHL Season\\n\\nFeb 12, 2025\\n\\n\\n\\n\\n\\n\\n\\n\\n\\n7:59\\n\\n\\nTop Goals from Week 18 of the 2024-25 NHL Season\\n\\nFeb 11, 2025\\n\\n\\n\\n\\n\\n\\n\\n\\n\\n5:23\\n\\n\\nTop Saves from Week 17 of the 2024-25 NHL Season\\n\\nFeb 05, 2025\\n\\n\\n\\n\\n\\n\\n\\n\\n\\n5:31\\n\\n\\nTop Goals from Week 17 of the 2024-25 NHL Season\\n\\nFeb 04, 2025\\n\\n\\n\\n\\n\\n\\n\\n\\n\\n\\n\\n\\n\\n\\n\\n\\n\\n\\n\\n\\n\\nUpcoming Events\\n\\n\\n\\n\\n\\n\\n\\n\\n4 Nations Face-Off: USA, CAN, FIN & SWE\\n\\n\\n\\n\\n\\n\\n\\n\\n\\n\\n\\n\\n\\n2025 Navy Federal Credit Union NHL Stadium Series\\n\\n\\n\\n\\n\\n\\n\\n\\n\\n\\n\\n\\n\\n2026 NHL All-Star Weekend\\n\\n\\n\\n\\n\\n\\n\\n\\n\\n\\n\\n\\n\\n\\n\\n\\n\\nWeird NHL\\n\\n\\n\\n\\n12:50\\n\\n\\nWeird NHL Vol. 116\\n\\nFeb 06, 2025\\n\\n\\n\\n\\n\\n\\n\\n\\n\\n16:04\\n\\n\\nWeird NHL Vol. 115\\n\\nJan 23, 2025\\n\\n\\n\\n\\n\\n\\n\\n\\n\\n20:31\\n\\n\\nWeird NHL Vol. 114\\n\\nJan 10, 2025\\n\\n\\n\\n\\n\\n\\n\\n\\n\\n19:42\\n\\n\\nWeird NHL Vol. 113\\n\\nDec 19, 2024\\n\\n\\n\\n\\n\\n\\n\\n\\n\\nGames & More to Explore\\n\\n\\n\\n\\n\\n\\n\\n\\n\\n\\n\\n\\n\\n\\n\\n\\n\\n\\n\\n\\n\\n\\n\\n\\n\\n\\n\\n\\n\\n\\n\\n\\n\\n\\n\\n\\n\\n\\n\\n\\n\\n\\n\\n\\n\\n\\n\\n\\n\\n\\n\\n\\n\\n\\n\\n\\n\\n\\n\\n\\n\\n\\n\\n\\n\\n\\n\\n\\nClose\\n\\n\\n\\n\\nThe NHL has updated its Privacy Policy and Cookie Policy effective February 7, 2025. We encourage you to review the Privacy Policy and Cookie Policy carefully.\\n\\n\\n\\n\\n\\n\\n\\n\\n\\n\\n\\n\\nYouTube\\n\\n\\n\\n\\n\\nInstagram\\n\\n\\n\\n\\n\\nDiscord\\n\\n\\n\\n\\n\\nFacebook\\n\\n\\n\\n\\n\\nSnapchat\\n\\n\\n\\n\\n\\nTwitch\\n\\n\\n\\n\\n\\nX\\n\\n\\n\\n\\n\\nTikTok\\n\\n\\n\\n\\n\\n\\n\\n\\nTerms of Service\\n\\n\\n\\n\\nNHL.com Privacy Policy\\n\\n\\n\\n\\nCookie Policy\\n\\n\\n\\n\\nCookie Settings\\n\\n\\n\\n\\nCopyright Policy\\n\\n\\n\\n\\nYour Privacy Choices\\n\\n\\n\\n\\nCareers\\n\\n\\n\\n\\nAbout\\n\\n\\n\\n\\n\\n\\nAbout the NHL\\n\\n\\n\\n\\nHow to Watch & Stream\\n\\n\\n\\n\\nVideo Rulebook\\n\\n\\n\\n\\nConnect with Us\\n\\n\\n\\n\\nFrequently Asked Questions\\n\\n\\n\\n\\nOnline Transmission Policy\\n\\n\\n\\n\\nSponsorship Opportunities\\n\\n\\n\\n\\nAccessibility\\n\\n\\n\\n\\nContact Us\\n\\n\\n\\n\\n\\n\\n\\n\\n\\n \\n              NHL.com is the official website of the National Hockey League. All NHL logos and marks and NHL team logos and marks depicted herein are the property of the NHL and the respective teams and may not be reproduced without the prior written consent of NHL Enterprises, L.P. © NHL 2025. All Rights Reserved. All NHL team jerseys customized with NHL players' names and numbers are officially licensed by the NHL and the NHLPA. The Zamboni word mark and configuration of the Zamboni ice resurfacing machine are registered trademarks of Frank J. Zamboni & Co., Inc.© Frank J. Zamboni & Co., Inc. 2025. All Rights Reserved. Any other third party trademarks or copyrights are the property of their respective owners. All rights reserved.\\n            \\n\\n\\n\\n\\n\\n\\n\\n\\n\\n\\n\\n\\n\\n\\n\\n\\n\\nClose\\n\\n\\n\\n\\n\\n\\n\\n\\n\\n\\n\\n\\n\")]"
      ]
     },
     "execution_count": 4,
     "metadata": {},
     "output_type": "execute_result"
    }
   ],
   "source": [
    "docs=loader.load()\n",
    "docs"
   ]
  },
  {
   "cell_type": "code",
   "execution_count": 5,
   "metadata": {},
   "outputs": [],
   "source": [
    "### Load Data--> Docs-->Divide our Docuemnts into chunks dcouments-->text-->vectors-->Vector Embeddings--->Vector Store DB\n",
    "from langchain_text_splitters import RecursiveCharacterTextSplitter\n",
    "\n",
    "text_splitter=RecursiveCharacterTextSplitter(chunk_size=1000,chunk_overlap=200)\n",
    "documents=text_splitter.split_documents(docs)"
   ]
  },
  {
   "cell_type": "code",
   "execution_count": null,
   "metadata": {},
   "outputs": [],
   "source": [
    "documents"
   ]
  },
  {
   "cell_type": "code",
   "execution_count": 7,
   "metadata": {},
   "outputs": [],
   "source": [
    "%pip install langchain_openai\n",
    "from langchain_openai import OpenAIEmbeddings\n",
    "embeddings=OpenAIEmbeddings()"
   ]
  },
  {
   "cell_type": "code",
   "execution_count": null,
   "metadata": {},
   "outputs": [],
   "source": [
    "from langchain_community.vectorstores import FAISS\n",
    "from langchain.embeddings import HuggingFaceEmbeddings\n",
    "%pip install sentence-transformers\n",
    "%pip install -qU langchain_community faiss-cpu\n",
    "\n",
    "embeddings = HuggingFaceEmbeddings(model_name=\"all-MiniLM-L6-v2\")  # Free model\n",
    "vectorstoredb = FAISS.from_documents(documents, embeddings)"
   ]
  },
  {
   "cell_type": "code",
   "execution_count": 9,
   "metadata": {},
   "outputs": [
    {
     "data": {
      "text/plain": [
       "<langchain_community.vectorstores.faiss.FAISS at 0x7fec1d8991b0>"
      ]
     },
     "execution_count": 9,
     "metadata": {},
     "output_type": "execute_result"
    }
   ],
   "source": [
    "vectorstoredb"
   ]
  },
  {
   "cell_type": "code",
   "execution_count": 11,
   "metadata": {},
   "outputs": [
    {
     "data": {
      "text/plain": [
       "\"Tkachuks deliver dream performance for U.S. in win\\n\\n\\n\\n\\n\\n\\n\\n\\n\\n\\n\\nU.S. honors Gaudreau legacy in ‘great way’ after win\\n\\n\\n\\n\\n\\n\\n\\n\\n\\n\\n\\nCrosby, MacKinnon leading by example for Canada\\n\\n\\n\\n\\n\\n\\n\\n\\n\\n\\n\\nTop Stories\\n\\nFinland mulling changes after loss in 4 Nations opener\\nTheodore to miss rest of 4 Nations for Canada\\nSweden Quarter-Century Teams selected by NHL.com\\nSweden seeks bounce back against rival Finland\\n2025 NHL Draft Diary: James Hagens\\n4 Nations Face-Off blog: Jake Guentzel\\nPakarinen knows both sides of Finland, Sweden rivalry\\nCrosby provides memorable day for Make-A-Wish teen\\nComplete coverage of 4 Nations Face-Off\\n\\n\\n\\n\\n\\n\\n\\n\\n\\n\\n\\n\\n\\n\\nMust Watch\\n\\n\\n\\n\\n\\n\\n\\n\\n3:14\\n\\n\\nTkachuk brothers have big night\\n\\nFeb 14, 2025\\n\\n\\n\\n\\n\\n\\n\\n\\n\\n2:11\\n\\n\\nUSA opens the 3rd with back-to-back goals\\n\\nFeb 14, 2025\\n\\n\\n\\n\\n\\n\\n\\n\\n\\n5:06\\n\\n\\nUSA at FIN | Recap | 4 Nations Face-Off\\n\\nFeb 14, 2025\\n\\n\\n\\n\\n\\n\\n\\n\\n\\n19:34\\n\\n\\nHear from USA players and coach after win\\n\\nFeb 14, 2025\\n\\n\\n\\n\\n\\n\\n\\n\\n\\n0:44\\n\\n\\nSweden, Finland kick off Saturday's 4 Nations slate\\n\\nFeb 14, 2025\""
      ]
     },
     "execution_count": 11,
     "metadata": {},
     "output_type": "execute_result"
    }
   ],
   "source": [
    "## Query From a vector db\n",
    "query=\"what is 4 nations\"\n",
    "result=vectorstoredb.similarity_search(query)\n",
    "result[0].page_content"
   ]
  },
  {
   "cell_type": "code",
   "execution_count": 12,
   "metadata": {},
   "outputs": [],
   "source": [
    "from langchain_openai import ChatOpenAI\n",
    "llm=ChatOpenAI(model=\"gpt-4o\")"
   ]
  },
  {
   "cell_type": "code",
   "execution_count": 13,
   "metadata": {},
   "outputs": [
    {
     "data": {
      "text/plain": [
       "RunnableBinding(bound=RunnableBinding(bound=RunnableAssign(mapper={\n",
       "  context: RunnableLambda(format_docs)\n",
       "}), kwargs={}, config={'run_name': 'format_inputs'}, config_factories=[])\n",
       "| ChatPromptTemplate(input_variables=['context'], input_types={}, partial_variables={}, messages=[HumanMessagePromptTemplate(prompt=PromptTemplate(input_variables=['context'], input_types={}, partial_variables={}, template='\\nAnswer the following question based only on the provided context:\\n<context>\\n{context}\\n</context>\\n\\n\\n'), additional_kwargs={})])\n",
       "| ChatOpenAI(client=<openai.resources.chat.completions.Completions object at 0x7fec1d89b1f0>, async_client=<openai.resources.chat.completions.AsyncCompletions object at 0x7fec34475300>, root_client=<openai.OpenAI object at 0x7fec46933340>, root_async_client=<openai.AsyncOpenAI object at 0x7fec1d89b250>, model_name='gpt-4o', model_kwargs={}, openai_api_key=SecretStr('**********'))\n",
       "| StrOutputParser(), kwargs={}, config={'run_name': 'stuff_documents_chain'}, config_factories=[])"
      ]
     },
     "execution_count": 13,
     "metadata": {},
     "output_type": "execute_result"
    }
   ],
   "source": [
    "## Retrieval Chain, Document chain\n",
    "\n",
    "from langchain.chains.combine_documents import create_stuff_documents_chain\n",
    "from langchain_core.prompts import ChatPromptTemplate\n",
    "\n",
    "prompt=ChatPromptTemplate.from_template(\n",
    "    \"\"\"\n",
    "Answer the following question based only on the provided context:\n",
    "<context>\n",
    "{context}\n",
    "</context>\n",
    "\n",
    "\n",
    "\"\"\"\n",
    ")\n",
    "\n",
    "document_chain=create_stuff_documents_chain(llm,prompt)\n",
    "document_chain"
   ]
  },
  {
   "cell_type": "code",
   "execution_count": null,
   "metadata": {},
   "outputs": [],
   "source": [
    "from langchain_core.documents import Document\n",
    "document_chain.invoke({\n",
    "    \"input\":\"What are the 4 nations\",\n",
    "    \"context\":[Document(page_content=doc.page_content) for doc in docs]\n",
    "})"
   ]
  },
  {
   "cell_type": "markdown",
   "metadata": {},
   "source": [
    "However, we want the documents to first come from the retriever we just set up. That way, we can use the retriever to dynamically select the most relevant documents and pass those in for a given question."
   ]
  },
  {
   "cell_type": "code",
   "execution_count": 15,
   "metadata": {},
   "outputs": [
    {
     "data": {
      "text/plain": [
       "<langchain_community.vectorstores.faiss.FAISS at 0x7fec1d8991b0>"
      ]
     },
     "execution_count": 15,
     "metadata": {},
     "output_type": "execute_result"
    }
   ],
   "source": [
    "### Input--->Retriever--->vectorstoredb\n",
    "vectorstoredb"
   ]
  },
  {
   "cell_type": "code",
   "execution_count": 16,
   "metadata": {},
   "outputs": [],
   "source": [
    "retriever=vectorstoredb.as_retriever()\n",
    "from langchain.chains import create_retrieval_chain\n",
    "retrieval_chain=create_retrieval_chain(retriever,document_chain)\n"
   ]
  },
  {
   "cell_type": "code",
   "execution_count": 17,
   "metadata": {},
   "outputs": [
    {
     "data": {
      "text/plain": [
       "RunnableBinding(bound=RunnableAssign(mapper={\n",
       "  context: RunnableBinding(bound=RunnableLambda(lambda x: x['input'])\n",
       "           | VectorStoreRetriever(tags=['FAISS', 'HuggingFaceEmbeddings'], vectorstore=<langchain_community.vectorstores.faiss.FAISS object at 0x7fec1d8991b0>, search_kwargs={}), kwargs={}, config={'run_name': 'retrieve_documents'}, config_factories=[])\n",
       "})\n",
       "| RunnableAssign(mapper={\n",
       "    answer: RunnableBinding(bound=RunnableBinding(bound=RunnableAssign(mapper={\n",
       "              context: RunnableLambda(format_docs)\n",
       "            }), kwargs={}, config={'run_name': 'format_inputs'}, config_factories=[])\n",
       "            | ChatPromptTemplate(input_variables=['context'], input_types={}, partial_variables={}, messages=[HumanMessagePromptTemplate(prompt=PromptTemplate(input_variables=['context'], input_types={}, partial_variables={}, template='\\nAnswer the following question based only on the provided context:\\n<context>\\n{context}\\n</context>\\n\\n\\n'), additional_kwargs={})])\n",
       "            | ChatOpenAI(client=<openai.resources.chat.completions.Completions object at 0x7fec1d89b1f0>, async_client=<openai.resources.chat.completions.AsyncCompletions object at 0x7fec34475300>, root_client=<openai.OpenAI object at 0x7fec46933340>, root_async_client=<openai.AsyncOpenAI object at 0x7fec1d89b250>, model_name='gpt-4o', model_kwargs={}, openai_api_key=SecretStr('**********'))\n",
       "            | StrOutputParser(), kwargs={}, config={'run_name': 'stuff_documents_chain'}, config_factories=[])\n",
       "  }), kwargs={}, config={'run_name': 'retrieval_chain'}, config_factories=[])"
      ]
     },
     "execution_count": 17,
     "metadata": {},
     "output_type": "execute_result"
    }
   ],
   "source": [
    "retrieval_chain"
   ]
  },
  {
   "cell_type": "code",
   "execution_count": null,
   "metadata": {},
   "outputs": [],
   "source": [
    "## Get the response form the LLM\n",
    "response=retrieval_chain.invoke({\"input\":\"what is the 4 nations\"})\n",
    "response['answer']"
   ]
  },
  {
   "cell_type": "code",
   "execution_count": null,
   "metadata": {},
   "outputs": [],
   "source": [
    "\n",
    "response"
   ]
  },
  {
   "cell_type": "code",
   "execution_count": null,
   "metadata": {},
   "outputs": [],
   "source": [
    "response['context']"
   ]
  }
 ],
 "metadata": {
  "kernelspec": {
   "display_name": "base",
   "language": "python",
   "name": "python3"
  },
  "language_info": {
   "codemirror_mode": {
    "name": "ipython",
    "version": 3
   },
   "file_extension": ".py",
   "mimetype": "text/x-python",
   "name": "python",
   "nbconvert_exporter": "python",
   "pygments_lexer": "ipython3",
   "version": "3.10.10"
  }
 },
 "nbformat": 4,
 "nbformat_minor": 2
}
